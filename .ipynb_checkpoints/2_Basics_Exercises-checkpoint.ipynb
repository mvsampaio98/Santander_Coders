{
 "cells": [
  {
   "cell_type": "markdown",
   "id": "2ef9acf5",
   "metadata": {},
   "source": [
    "**1. Faça um programa que olhe todos os itens de uma lista e diga quantos deles\n",
    "são pares.**"
   ]
  },
  {
   "cell_type": "code",
   "execution_count": 4,
   "id": "15e897a8",
   "metadata": {},
   "outputs": [
    {
     "name": "stdout",
     "output_type": "stream",
     "text": [
      "A quantidade de Nº's pares é:  3\n"
     ]
    }
   ],
   "source": [
    "contador = 0\n",
    "lista = [10, 20, 3, 7, 3, 10]\n",
    "for i in lista:\n",
    "    if i % 2 == 0:\n",
    "        contador += 1\n",
    "print(\"A quantidade de Nº's pares é: \", contador)"
   ]
  },
  {
   "cell_type": "markdown",
   "id": "6d57587c",
   "metadata": {},
   "source": [
    "**2. Faça um programa que peça para o usuário digitar uma palavra e imprima\n",
    "cada letra em uma linha.**"
   ]
  },
  {
   "cell_type": "code",
   "execution_count": 5,
   "id": "56ec0e83",
   "metadata": {},
   "outputs": [
    {
     "name": "stdout",
     "output_type": "stream",
     "text": [
      "Digite uma palavra: Marcelo\n",
      "M\n",
      "a\n",
      "r\n",
      "c\n",
      "e\n",
      "l\n",
      "o\n"
     ]
    }
   ],
   "source": [
    "palavra = input('Digite uma palavra: ')\n",
    "for i in palavra:\n",
    "    print(i)"
   ]
  },
  {
   "cell_type": "markdown",
   "id": "597b4a83",
   "metadata": {},
   "source": [
    "**3. Faça uma função que recebe duas listas e retorna a soma item a item dessas\n",
    "listas.**\n",
    "\n",
    "**Exemplo: Se a função receber as listas [1,4,3] e [3,5,1], então a função deve\n",
    "retornar [1+3, 4+5, 3+1] = [4, 9, 4].**"
   ]
  },
  {
   "cell_type": "code",
   "execution_count": 9,
   "id": "7a549d4a",
   "metadata": {},
   "outputs": [
    {
     "name": "stdout",
     "output_type": "stream",
     "text": [
      "A soma das listas é:  [2, 2, 2]\n"
     ]
    }
   ],
   "source": [
    "lista1 = [1,1,1]\n",
    "lista2 = [1,1,1]\n",
    "lista3 = []\n",
    "for i in range(len(lista1)):\n",
    "    lista3.append(lista1[i] + lista2[i])\n",
    "print('A soma das listas é: ', lista3)"
   ]
  },
  {
   "cell_type": "markdown",
   "id": "ecec7e20",
   "metadata": {},
   "source": [
    "**4. Crie um dicionário cujas chaves são os meses do ano e os valores são a\n",
    "duração (em dias) de cada mês.**"
   ]
  },
  {
   "cell_type": "code",
   "execution_count": 10,
   "id": "80137b47",
   "metadata": {},
   "outputs": [],
   "source": [
    "dic = {\n",
    "    'Janeiro': 31,\n",
    "    'Fevereiro': 28,\n",
    "    'Março': 31,\n",
    "    'Abril': 30,\n",
    "    'Maio': 31,\n",
    "    'Junho': 30,\n",
    "    'Julho': 31,\n",
    "    'Agosto': 31,\n",
    "    'Setembro': 30,\n",
    "    'Outubro': 31,\n",
    "    'Novembro': 30,\n",
    "    'Dezembro': 31\n",
    "}"
   ]
  },
  {
   "cell_type": "markdown",
   "id": "bf86bb55",
   "metadata": {},
   "source": [
    "**5. Imprima as chaves seguidas dos seus valores para dicionário criado no\n",
    "exercício anterior.**"
   ]
  },
  {
   "cell_type": "code",
   "execution_count": 11,
   "id": "c0d8b01e",
   "metadata": {},
   "outputs": [
    {
     "name": "stdout",
     "output_type": "stream",
     "text": [
      "Janeiro - 31\n",
      "Fevereiro - 28\n",
      "Março - 31\n",
      "Abril - 30\n",
      "Maio - 31\n",
      "Junho - 30\n",
      "Julho - 31\n",
      "Agosto - 31\n",
      "Setembro - 30\n",
      "Outubro - 31\n",
      "Novembro - 30\n",
      "Dezembro - 31\n"
     ]
    }
   ],
   "source": [
    "for i in dic:\n",
    "    print('{} - {}'.format(i, dic[i]))"
   ]
  }
 ],
 "metadata": {
  "kernelspec": {
   "display_name": "Python 3 (ipykernel)",
   "language": "python",
   "name": "python3"
  },
  "language_info": {
   "codemirror_mode": {
    "name": "ipython",
    "version": 3
   },
   "file_extension": ".py",
   "mimetype": "text/x-python",
   "name": "python",
   "nbconvert_exporter": "python",
   "pygments_lexer": "ipython3",
   "version": "3.9.12"
  }
 },
 "nbformat": 4,
 "nbformat_minor": 5
}
