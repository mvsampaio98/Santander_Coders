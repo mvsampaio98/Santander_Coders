{
 "cells": [
  {
   "cell_type": "markdown",
   "id": "e5f6f69c",
   "metadata": {},
   "source": [
    "**1. Neste exercício você deve criar um programa que abra o arquivo\n",
    "\"alunos.csv\" e imprima o conteúdo do arquivo linha a linha.**"
   ]
  },
  {
   "cell_type": "code",
   "execution_count": 3,
   "id": "779c8f3f",
   "metadata": {},
   "outputs": [
    {
     "name": "stdout",
     "output_type": "stream",
     "text": [
      "['RA', 'Nome', 'Frequencia', 'Prova_1', 'Prova_2', 'Prova_3', 'Prova_4']\n",
      "['110201', 'Antonio Carlos', '20', '6.5', '8.5', '7', '6']\n",
      "['110212', 'Ana Beatriz', '20', '7', '7', '7', '8']\n",
      "['110218', 'Carlos Vernes', '17', '7', '7', '7', '7']\n",
      "['110307', 'Francisco Cunha', '20', '9', '8.5', '8.5', '10']\n",
      "['110275', 'Sandra Rosa', '15', '6.5', '7.5', '7', '7']\n",
      "['110281', 'Juliana Arruda', '18', '7.5', '7', '7.5', '8']\n",
      "['110301', 'Joao Galo', '20', '5', '6.5', '7', '5']\n",
      "['110263', 'José Valente', '20', '10', '10', '10', '10']\n",
      "['110271', 'Maria Ferreira', '19', '9.5', '8', '7', '10']\n",
      "['110236', 'Adriana Tavares', '20', '8', '8', '8', '8']\n"
     ]
    }
   ],
   "source": [
    "import csv\n",
    "\n",
    "with open('dados/alunos.csv', 'r', encoding='utf-8') as arquivo_csv:\n",
    "    leitor = csv.reader(arquivo_csv)\n",
    "    for linha in leitor:\n",
    "        print(linha)"
   ]
  },
  {
   "cell_type": "markdown",
   "id": "d3fc5792",
   "metadata": {},
   "source": [
    "**2. Para o segundo exercício, você deve criar um programa que realize uma\n",
    "cópia do arquivo \"alunos.csv\". Essa cópia deve ser um arquivo chamado\n",
    "\"alunos_copia.csv\".**"
   ]
  },
  {
   "cell_type": "code",
   "execution_count": 7,
   "id": "47389fa2",
   "metadata": {},
   "outputs": [],
   "source": [
    "with open('dados/alunos_copia.csv', 'w', encoding='utf-8', newline='') as arquivo_users:\n",
    "    escritor = csv.writer(arquivo_users)\n",
    "    with open('dados/alunos.csv', 'r', encoding='utf-8') as arquivo_csv:\n",
    "        leitor = csv.reader(arquivo_csv)\n",
    "        for linha in leitor:\n",
    "            escritor.writerow(linha)"
   ]
  },
  {
   "cell_type": "code",
   "execution_count": 8,
   "id": "08fc8097",
   "metadata": {},
   "outputs": [
    {
     "name": "stdout",
     "output_type": "stream",
     "text": [
      "['RA', 'Nome', 'Frequencia', 'Prova_1', 'Prova_2', 'Prova_3', 'Prova_4']\n",
      "['110201', 'Antonio Carlos', '20', '6.5', '8.5', '7', '6']\n",
      "['110212', 'Ana Beatriz', '20', '7', '7', '7', '8']\n",
      "['110218', 'Carlos Vernes', '17', '7', '7', '7', '7']\n",
      "['110307', 'Francisco Cunha', '20', '9', '8.5', '8.5', '10']\n",
      "['110275', 'Sandra Rosa', '15', '6.5', '7.5', '7', '7']\n",
      "['110281', 'Juliana Arruda', '18', '7.5', '7', '7.5', '8']\n",
      "['110301', 'Joao Galo', '20', '5', '6.5', '7', '5']\n",
      "['110263', 'José Valente', '20', '10', '10', '10', '10']\n",
      "['110271', 'Maria Ferreira', '19', '9.5', '8', '7', '10']\n",
      "['110236', 'Adriana Tavares', '20', '8', '8', '8', '8']\n"
     ]
    }
   ],
   "source": [
    "with open('dados/alunos_copia.csv', 'r', encoding='utf-8') as arquivo_csv:\n",
    "    leitor = csv.reader(arquivo_csv)\n",
    "    for linha in leitor:\n",
    "        print(linha)"
   ]
  },
  {
   "cell_type": "markdown",
   "id": "fa41153e",
   "metadata": {},
   "source": [
    "**3. Neste exercício você deve criar um novo arquivo chamado\n",
    "\"alunos_media.csv\". Esse novo arquivo é uma cópia de \"alunos.csv\" porém\n",
    "com uma coluna a mais chamada \"Média\" que vai abrigar os valores das\n",
    "médias das provas de cada aluno da lista.**"
   ]
  },
  {
   "cell_type": "markdown",
   "id": "f1506828",
   "metadata": {},
   "source": [
    "**4. Utilize a URL \"https://swapi.dev/api/people/4/\" para fazer a requisição dos\n",
    "dados de Darth Vader e extraia as informações \"name\" (nome), \"height\"\n",
    "(altura), \"mass\" (massa) e \"birth_year\" (ano de nascimento) e imprima cada\n",
    "dado em uma linha.**"
   ]
  },
  {
   "cell_type": "code",
   "execution_count": 57,
   "id": "38ca6001",
   "metadata": {},
   "outputs": [
    {
     "name": "stdout",
     "output_type": "stream",
     "text": [
      "200\n"
     ]
    }
   ],
   "source": [
    "# Fazendo a captura da API\n",
    "import requests\n",
    "url = 'https://swapi.dev/api/people/4/'\n",
    "req = requests.get(url)\n",
    "print(req.status_code)"
   ]
  },
  {
   "cell_type": "code",
   "execution_count": 62,
   "id": "06fd9413",
   "metadata": {},
   "outputs": [
    {
     "data": {
      "text/plain": [
       "{'name': 'Darth Vader',\n",
       " 'height': '202',\n",
       " 'mass': '136',\n",
       " 'hair_color': 'none',\n",
       " 'skin_color': 'white',\n",
       " 'eye_color': 'yellow',\n",
       " 'birth_year': '41.9BBY',\n",
       " 'gender': 'male',\n",
       " 'homeworld': 'https://swapi.dev/api/planets/1/',\n",
       " 'films': ['https://swapi.dev/api/films/1/',\n",
       "  'https://swapi.dev/api/films/2/',\n",
       "  'https://swapi.dev/api/films/3/',\n",
       "  'https://swapi.dev/api/films/6/'],\n",
       " 'species': [],\n",
       " 'vehicles': [],\n",
       " 'starships': ['https://swapi.dev/api/starships/13/'],\n",
       " 'created': '2014-12-10T15:18:20.704000Z',\n",
       " 'edited': '2014-12-20T21:17:50.313000Z',\n",
       " 'url': 'https://swapi.dev/api/people/4/'}"
      ]
     },
     "execution_count": 62,
     "metadata": {},
     "output_type": "execute_result"
    }
   ],
   "source": [
    "dados = req.json()\n",
    "dados"
   ]
  },
  {
   "cell_type": "code",
   "execution_count": 87,
   "id": "434f6b14",
   "metadata": {},
   "outputs": [],
   "source": [
    "data = []\n",
    "data.append(dados['name'])\n",
    "data.append(dados['height'])\n",
    "data.append(dados['mass'])\n",
    "data.append(dados['birth_year'])"
   ]
  },
  {
   "cell_type": "code",
   "execution_count": 90,
   "id": "adecd344",
   "metadata": {},
   "outputs": [
    {
     "name": "stdout",
     "output_type": "stream",
     "text": [
      "Nome:  Darth Vader\n",
      "Altura:  202\n",
      "Massa:  136\n",
      "Ano de Nascimento:  41.9BBY\n"
     ]
    }
   ],
   "source": [
    "print('Nome: ', data[0])\n",
    "print('Altura: ', data[1])\n",
    "print('Massa: ', data[2])\n",
    "print('Ano de Nascimento: ', data[3])"
   ]
  },
  {
   "cell_type": "markdown",
   "id": "4ca847ed",
   "metadata": {},
   "source": [
    "**5. Em 2019 surgiram os primeiros casos de COVID-19 que se alastrou pelo\n",
    "mundo resultando numa pandemia. A proposta deste exercício é utilizar\n",
    "uma API com informações de COVID-19 do mundo todo desde o início da\n",
    "proliferação e descobrir que dia o Brasil confirmou o primeiro caso de\n",
    "Coronavírus.**\n",
    "\n",
    "**Para fazer isso, utilize a URL \"https://api.covid19api.com/country/brazil\" em seu\n",
    "código. Ela retorna uma lista de dicionários, onde cada dicionário traz\n",
    "informações através das chaves:**\n",
    "\n",
    "**\"ID\", \"Country\", \"CountryCode\", \"Province\", \"City\",\n",
    "\"CityCode\",\"Lat\",\"Lon\",\"Confirmed\",\"Deaths\", \"Recovered\", \"Active\" e \"Date\".**\n",
    "\n",
    "**Utilize essas informações e retorne a data em que o Brasil confirmou o\n",
    "primeiro caso de COVID.**"
   ]
  },
  {
   "cell_type": "code",
   "execution_count": 91,
   "id": "31f128b3",
   "metadata": {},
   "outputs": [
    {
     "name": "stdout",
     "output_type": "stream",
     "text": [
      "200\n"
     ]
    }
   ],
   "source": [
    "import requests\n",
    "url = 'https://api.covid19api.com/country/brazil'\n",
    "req = requests.get(url)\n",
    "print(req.status_code)"
   ]
  },
  {
   "cell_type": "code",
   "execution_count": 93,
   "id": "aab01e1d",
   "metadata": {},
   "outputs": [
    {
     "data": {
      "text/plain": [
       "{'ID': '82bb182c-e73f-41d1-a634-58e23d0875c2',\n",
       " 'Country': 'Brazil',\n",
       " 'CountryCode': 'BR',\n",
       " 'Province': '',\n",
       " 'City': '',\n",
       " 'CityCode': '',\n",
       " 'Lat': '-14.24',\n",
       " 'Lon': '-51.93',\n",
       " 'Confirmed': 0,\n",
       " 'Deaths': 0,\n",
       " 'Recovered': 0,\n",
       " 'Active': 0,\n",
       " 'Date': '2020-01-22T00:00:00Z'}"
      ]
     },
     "execution_count": 93,
     "metadata": {},
     "output_type": "execute_result"
    }
   ],
   "source": [
    "dados = req.json()\n",
    "dados[0]"
   ]
  },
  {
   "cell_type": "code",
   "execution_count": 97,
   "id": "152d8b74",
   "metadata": {},
   "outputs": [],
   "source": [
    "my_data = []\n",
    "for i in dados:\n",
    "    my_data.append([i['Confirmed'], i['Date']])"
   ]
  },
  {
   "cell_type": "code",
   "execution_count": 115,
   "id": "5c691d4d",
   "metadata": {},
   "outputs": [],
   "source": [
    "for i in range(len(my_data)):\n",
    "    my_data[i][1] = my_data[i][1][:10]"
   ]
  },
  {
   "cell_type": "code",
   "execution_count": 117,
   "id": "414a46e7",
   "metadata": {},
   "outputs": [],
   "source": [
    "my+\n"
   ]
  },
  {
   "cell_type": "code",
   "execution_count": null,
   "id": "7acfa4e3",
   "metadata": {},
   "outputs": [],
   "source": []
  },
  {
   "cell_type": "code",
   "execution_count": 121,
   "id": "ee6f42f3",
   "metadata": {},
   "outputs": [
    {
     "name": "stdout",
     "output_type": "stream",
     "text": [
      "2020-02-26\n",
      "2020-02-27\n",
      "2020-02-28\n"
     ]
    }
   ],
   "source": [
    "for i in my_data:\n",
    "    if i[0] == 1:\n",
    "        if int(i[8:10] < i)\n",
    "        print(i[1])"
   ]
  },
  {
   "cell_type": "code",
   "execution_count": null,
   "id": "a6dfb1ab",
   "metadata": {},
   "outputs": [],
   "source": []
  }
 ],
 "metadata": {
  "kernelspec": {
   "display_name": "Python 3 (ipykernel)",
   "language": "python",
   "name": "python3"
  },
  "language_info": {
   "codemirror_mode": {
    "name": "ipython",
    "version": 3
   },
   "file_extension": ".py",
   "mimetype": "text/x-python",
   "name": "python",
   "nbconvert_exporter": "python",
   "pygments_lexer": "ipython3",
   "version": "3.9.12"
  }
 },
 "nbformat": 4,
 "nbformat_minor": 5
}
