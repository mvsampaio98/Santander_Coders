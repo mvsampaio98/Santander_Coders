{
 "cells": [
  {
   "cell_type": "markdown",
   "id": "fd1dcfdc",
   "metadata": {},
   "source": [
    "**Listas**"
   ]
  },
  {
   "cell_type": "code",
   "execution_count": 1,
   "id": "2ce3bc6c",
   "metadata": {},
   "outputs": [
    {
     "name": "stdout",
     "output_type": "stream",
     "text": [
      "['Brasil', 'Argentina', 'China', 'Canadá', 'Japão']\n"
     ]
    }
   ],
   "source": [
    "nomes_paises = ['Brasil', 'Argentina', 'China', 'Canadá', 'Japão']\n",
    "print(nomes_paises)"
   ]
  },
  {
   "cell_type": "code",
   "execution_count": 2,
   "id": "2b8d43a1",
   "metadata": {},
   "outputs": [
    {
     "name": "stdout",
     "output_type": "stream",
     "text": [
      "Tamanho da lista:  5\n"
     ]
    }
   ],
   "source": [
    "print('Tamanho da lista: ', len(nomes_paises))"
   ]
  },
  {
   "cell_type": "code",
   "execution_count": 3,
   "id": "5476b614",
   "metadata": {},
   "outputs": [
    {
     "name": "stdout",
     "output_type": "stream",
     "text": [
      "Primeiro da lista:  Brasil\n",
      "Ultimo da lista:  Japão\n"
     ]
    }
   ],
   "source": [
    "# Acessando uma lista:\n",
    "\n",
    "print('Primeiro da lista: ', nomes_paises[0])\n",
    "print('Ultimo da lista: ', nomes_paises[-1])"
   ]
  },
  {
   "cell_type": "code",
   "execution_count": 4,
   "id": "89c2c5a9",
   "metadata": {},
   "outputs": [
    {
     "name": "stdout",
     "output_type": "stream",
     "text": [
      "Nome paises atualizado:  ['Brasil', 'Argentina', 'China', 'Canadá', 'Colombia']\n"
     ]
    }
   ],
   "source": [
    "# Sobrepondo valor da lista\n",
    "nomes_paises[4] = 'Colombia'\n",
    "print('Nome paises atualizado: ', nomes_paises)"
   ]
  },
  {
   "cell_type": "markdown",
   "id": "ca315f50",
   "metadata": {},
   "source": [
    "Cuidado ! Tentar inserir da seguinte forma retorna erro de out index:\n",
    "\n",
    "nomes_paises[5] = 'nome do país'\n",
    "\n",
    "O correto é utilizar a função .append()\n",
    "\n",
    "nome_paises.append('nome do país')"
   ]
  },
  {
   "cell_type": "code",
   "execution_count": 5,
   "id": "c56c9929",
   "metadata": {
    "scrolled": true
   },
   "outputs": [
    {
     "name": "stdout",
     "output_type": "stream",
     "text": [
      "['Brasil', 'Argentina', 'China', 'Canadá', 'Colombia']\n",
      "['Argentina', 'China']\n",
      "['Argentina', 'China', 'Canadá', 'Colombia']\n",
      "['Brasil', 'Argentina', 'China']\n"
     ]
    }
   ],
   "source": [
    "# Acessando uma lista com slices (O indice final nunca entra na amostra !)\n",
    "print(nomes_paises[:])\n",
    "print(nomes_paises[1:3])\n",
    "print(nomes_paises[1:])\n",
    "print(nomes_paises[:-2])"
   ]
  },
  {
   "cell_type": "code",
   "execution_count": 6,
   "id": "5e1d6882",
   "metadata": {},
   "outputs": [
    {
     "name": "stdout",
     "output_type": "stream",
     "text": [
      "['Brasil', 'Argentina', 'China', 'Canadá', 'Colombia']\n",
      "['Brasil', 'China', 'Colombia']\n",
      "['Colombia', 'Canadá', 'China', 'Argentina', 'Brasil']\n"
     ]
    }
   ],
   "source": [
    "# Saltando valores em uma lista\n",
    "print(nomes_paises[:])\n",
    "print(nomes_paises[::2]) # Toda lista saltando de 2 em 2\n",
    "print(nomes_paises[::-1]) # Consigo inverter a ordem de uma lista dessa forma !"
   ]
  },
  {
   "cell_type": "code",
   "execution_count": 7,
   "id": "179159f2",
   "metadata": {},
   "outputs": [
    {
     "name": "stdout",
     "output_type": "stream",
     "text": [
      "['Brasil', 'Argentina', 'China', 'Canadá', 'Colombia']\n",
      "True\n",
      "False\n"
     ]
    }
   ],
   "source": [
    "# Sabendo se existe um determinado valor dentro da lista\n",
    "\n",
    "print(nomes_paises)\n",
    "print('Brasil' in nomes_paises)\n",
    "print('Canadá' not in nomes_paises)"
   ]
  },
  {
   "cell_type": "code",
   "execution_count": 8,
   "id": "006111be",
   "metadata": {},
   "outputs": [
    {
     "name": "stdout",
     "output_type": "stream",
     "text": [
      "['Brasilia', 'Buenos Aires', 'Pequim', 'Bogotá']\n"
     ]
    }
   ],
   "source": [
    "# Adicionando valor na lista usando append\n",
    "\n",
    "lista_capitais = []\n",
    "lista_capitais.append('Brasilia')\n",
    "lista_capitais.append('Buenos Aires')\n",
    "lista_capitais.append('Pequim')\n",
    "lista_capitais.append('Bogotá')\n",
    "print(lista_capitais)"
   ]
  },
  {
   "cell_type": "code",
   "execution_count": 9,
   "id": "049683e7",
   "metadata": {},
   "outputs": [
    {
     "name": "stdout",
     "output_type": "stream",
     "text": [
      "['Brasilia', 'Buenos Aires', 'Paris', 'Pequim', 'Bogotá']\n"
     ]
    }
   ],
   "source": [
    "# Adicionando valor na lista usando o insert (Com o insert podemos colocar\n",
    "# o elemento no lugar que queremos ao contrário do append que vai para última\n",
    "# posição)\n",
    "\n",
    "lista_capitais.insert(2, 'Paris')\n",
    "print(lista_capitais)"
   ]
  },
  {
   "cell_type": "code",
   "execution_count": 10,
   "id": "41a00863",
   "metadata": {},
   "outputs": [
    {
     "name": "stdout",
     "output_type": "stream",
     "text": [
      "['Brasilia', 'Paris', 'Pequim', 'Bogotá']\n"
     ]
    }
   ],
   "source": [
    "# Deletando lista usando remove\n",
    "\n",
    "lista_capitais.remove('Buenos Aires')\n",
    "print(lista_capitais)"
   ]
  },
  {
   "cell_type": "code",
   "execution_count": 11,
   "id": "9b7ec82e",
   "metadata": {},
   "outputs": [
    {
     "name": "stdout",
     "output_type": "stream",
     "text": [
      "['Brasilia', 'Paris', 'Pequim', 'Bogotá']\n",
      "['Brasilia', 'Paris', 'Bogotá']\n"
     ]
    }
   ],
   "source": [
    "# Deletando lista usando pop\n",
    "print(lista_capitais)\n",
    "lista_capitais.pop(2)\n",
    "print(lista_capitais)"
   ]
  },
  {
   "cell_type": "markdown",
   "id": "48cf70f6",
   "metadata": {},
   "source": [
    "**Tuplas**"
   ]
  },
  {
   "cell_type": "code",
   "execution_count": 12,
   "id": "0ae8e8a3",
   "metadata": {},
   "outputs": [
    {
     "name": "stdout",
     "output_type": "stream",
     "text": [
      "('Brasil', 'Argentina', 'China', 'Canadá', 'Japão') <class 'tuple'>\n"
     ]
    }
   ],
   "source": [
    "nomes_paises = ('Brasil', 'Argentina', 'China', 'Canadá', 'Japão')\n",
    "print(nomes_paises, type(nomes_paises))"
   ]
  },
  {
   "cell_type": "code",
   "execution_count": 13,
   "id": "e3772e88",
   "metadata": {},
   "outputs": [
    {
     "name": "stdout",
     "output_type": "stream",
     "text": [
      "('Brasil', 'Argentina', 'China', 'Canadá', 'Japão') <class 'tuple'>\n"
     ]
    }
   ],
   "source": [
    "# Detalhe se declarar sem parênteses continua sendo uma tupla\n",
    "nomes_paises = 'Brasil', 'Argentina', 'China', 'Canadá', 'Japão'\n",
    "print(nomes_paises, type(nomes_paises))"
   ]
  },
  {
   "cell_type": "code",
   "execution_count": 14,
   "id": "823b2a72",
   "metadata": {
    "scrolled": true
   },
   "outputs": [
    {
     "name": "stdout",
     "output_type": "stream",
     "text": [
      "('São Paulo',) <class 'tuple'>\n"
     ]
    }
   ],
   "source": [
    "# Declarando tupla de 1 elemento\n",
    "nome_estado = 'São Paulo',\n",
    "print(nome_estado, type(nome_estado))"
   ]
  },
  {
   "cell_type": "markdown",
   "id": "e86bd0bc",
   "metadata": {},
   "source": [
    "**Strings I**"
   ]
  },
  {
   "cell_type": "code",
   "execution_count": 15,
   "id": "1cc9a4c1",
   "metadata": {},
   "outputs": [
    {
     "name": "stdout",
     "output_type": "stream",
     "text": [
      "O professor Pietro da Let'sCode disse: \"Hoje a pizza é por minha conta\"\n"
     ]
    }
   ],
   "source": [
    "# Utilização do caracter discapt (O caracter discapt pode ser utilizado para\n",
    "# quebra de linha, tabulação ou retorno dentro do texto)\n",
    "\n",
    "frase = \"O professor Pietro da Let'sCode disse: \\\"Hoje a pizza é por minha conta\\\"\"\n",
    "print(frase)"
   ]
  },
  {
   "cell_type": "code",
   "execution_count": 16,
   "id": "393567ef",
   "metadata": {
    "scrolled": true
   },
   "outputs": [
    {
     "name": "stdout",
     "output_type": "stream",
     "text": [
      "G\n",
      "Goo\n"
     ]
    }
   ],
   "source": [
    "# Acessando uma string\n",
    "empresa = 'Google'\n",
    "print(empresa[0])\n",
    "print(empresa[0:3])"
   ]
  },
  {
   "cell_type": "code",
   "execution_count": 17,
   "id": "8aaf169f",
   "metadata": {},
   "outputs": [
    {
     "name": "stdout",
     "output_type": "stream",
     "text": [
      "['São Paulo', 'Belo Horizonte', 'Rio de Janeiro', 'Brasilia']\n"
     ]
    }
   ],
   "source": [
    "# Separando uma string em uma lista\n",
    "cidades = 'São Paulo, Belo Horizonte, Rio de Janeiro, Brasilia'\n",
    "cidades = cidades.split(', ')\n",
    "print(cidades)"
   ]
  },
  {
   "cell_type": "code",
   "execution_count": 18,
   "id": "33bae7f9",
   "metadata": {},
   "outputs": [
    {
     "name": "stdout",
     "output_type": "stream",
     "text": [
      "   MENU PRINCIPAL   \n",
      "MENU PRINCIPAL\n"
     ]
    }
   ],
   "source": [
    "# Removendo espaços de uma string\n",
    "cabecalho = \"   MENU PRINCIPAL   \"\n",
    "print(cabecalho)\n",
    "cabecalho = cabecalho.strip()\n",
    "print(cabecalho)"
   ]
  },
  {
   "cell_type": "code",
   "execution_count": 19,
   "id": "036cf340",
   "metadata": {},
   "outputs": [
    {
     "name": "stdout",
     "output_type": "stream",
     "text": [
      "Palavra teste: rIo DE janeirO\n",
      "Só as primeiras maiusculas:  Rio De Janeiro\n",
      "Só a primeira letra maiuscula:  Rio de janeiro\n",
      "Tudo minusculo:  rio de janeiro\n",
      "Tudo maiusculo:  RIO DE JANEIRO\n"
     ]
    }
   ],
   "source": [
    "# Padronizando uma string\n",
    "\n",
    "cidade = 'rIo DE janeirO'\n",
    "\n",
    "print('Palavra teste:', cidade)\n",
    "print('Só as primeiras maiusculas: ', cidade.title())\n",
    "print('Só a primeira letra maiuscula: ', cidade.capitalize())\n",
    "print('Tudo minusculo: ', cidade.lower())\n",
    "print('Tudo maiusculo: ', cidade.upper())"
   ]
  },
  {
   "cell_type": "code",
   "execution_count": 20,
   "id": "17fa37d9",
   "metadata": {},
   "outputs": [
    {
     "name": "stdout",
     "output_type": "stream",
     "text": [
      "Qual cidade do Brasil é conhecida como cidade maravilhosa ?rio de janeiro\n",
      "Acertouuu !!\n"
     ]
    }
   ],
   "source": [
    "cidade = input('Qual cidade do Brasil é conhecida como cidade maravilhosa ?')\n",
    "cidade = cidade.strip()\n",
    "while cidade.lower() != 'rio de janeiro':\n",
    "    print('Tente novamente !')\n",
    "    cidade = input('Qual cidade do Brasil é conhecida como cidade maravilhosa ?')\n",
    "    cidade = cidade.strip()\n",
    "print('Acertouuu !!')"
   ]
  },
  {
   "cell_type": "code",
   "execution_count": 21,
   "id": "4524538d",
   "metadata": {},
   "outputs": [
    {
     "name": "stdout",
     "output_type": "stream",
     "text": [
      "True\n",
      "False\n"
     ]
    }
   ],
   "source": [
    "mensagem = 'Você viu o que o Pietro disse ?'\n",
    "citado = 'Pietro' in mensagem\n",
    "print(citado)\n",
    "citado = 'Felipe' in mensagem\n",
    "print(citado)"
   ]
  },
  {
   "cell_type": "markdown",
   "id": "c3a62024",
   "metadata": {},
   "source": [
    "**Strings II**"
   ]
  },
  {
   "cell_type": "code",
   "execution_count": 22,
   "id": "51c0fe97",
   "metadata": {},
   "outputs": [
    {
     "name": "stdout",
     "output_type": "stream",
     "text": [
      "Olá, Marcelo\n",
      "MarceloMarceloMarceloMarceloMarcelo\n"
     ]
    }
   ],
   "source": [
    "# Operações com String\n",
    "cumprimento = 'Olá, '\n",
    "nome = 'Marcelo'\n",
    "print(cumprimento + nome)\n",
    "print(nome * 5)"
   ]
  },
  {
   "cell_type": "code",
   "execution_count": 23,
   "id": "2a11f5af",
   "metadata": {
    "scrolled": true
   },
   "outputs": [
    {
     "name": "stdout",
     "output_type": "stream",
     "text": [
      "Marcelo tem 24 anos e 0 filhos\n"
     ]
    }
   ],
   "source": [
    "nome = 'Marcelo'\n",
    "idade = '24'\n",
    "n_filhos = '0'\n",
    "print(nome + ' tem ' + str(idade) + ' anos e ' + str(n_filhos) + ' filhos')"
   ]
  },
  {
   "cell_type": "code",
   "execution_count": 24,
   "id": "45043a41",
   "metadata": {
    "scrolled": true
   },
   "outputs": [
    {
     "name": "stdout",
     "output_type": "stream",
     "text": [
      "Marcelo tem 24 anos e 0 filhos\n"
     ]
    }
   ],
   "source": [
    "# Forma resumida para printar mensagem, sem precisar concatenar e trocar os\n",
    "# tipos de variaveis numericas para .str()\n",
    "print('{} tem {} anos e {} filhos'.format(nome,idade,n_filhos))"
   ]
  },
  {
   "cell_type": "code",
   "execution_count": 25,
   "id": "be0d9810",
   "metadata": {},
   "outputs": [
    {
     "name": "stdout",
     "output_type": "stream",
     "text": [
      "O preço da gasolina hoje subiu e está em R$ 6.02\n"
     ]
    }
   ],
   "source": [
    "# Casas decimais no print\n",
    "preco_gasolina = 6.019\n",
    "print('O preço da gasolina hoje subiu e está em R$ {:.2f}'.format(preco_gasolina))"
   ]
  },
  {
   "cell_type": "markdown",
   "id": "0bd17d83",
   "metadata": {},
   "source": [
    "**Dicionários**"
   ]
  },
  {
   "cell_type": "code",
   "execution_count": 26,
   "id": "9730dc6b",
   "metadata": {},
   "outputs": [],
   "source": [
    "dados_cidade = {\n",
    "    'nome': 'São Paulo',\n",
    "    'estado': 'São Paulo',\n",
    "    'area_km2': 1521,\n",
    "    'populacao_milhoes': 12.18\n",
    "}"
   ]
  },
  {
   "cell_type": "code",
   "execution_count": 27,
   "id": "55027030",
   "metadata": {},
   "outputs": [
    {
     "name": "stdout",
     "output_type": "stream",
     "text": [
      "{'nome': 'São Paulo', 'estado': 'São Paulo', 'area_km2': 1521, 'populacao_milhoes': 12.18} <class 'dict'>\n"
     ]
    }
   ],
   "source": [
    "print(dados_cidade, type(dados_cidade))"
   ]
  },
  {
   "cell_type": "code",
   "execution_count": 28,
   "id": "ce1b98ce",
   "metadata": {},
   "outputs": [],
   "source": [
    "dados_cidade['país'] = 'Brasil'"
   ]
  },
  {
   "cell_type": "code",
   "execution_count": 29,
   "id": "1ab1c121",
   "metadata": {},
   "outputs": [
    {
     "name": "stdout",
     "output_type": "stream",
     "text": [
      "{'nome': 'São Paulo', 'estado': 'São Paulo', 'area_km2': 1521, 'populacao_milhoes': 12.18, 'país': 'Brasil'}\n"
     ]
    }
   ],
   "source": [
    "print(dados_cidade)"
   ]
  },
  {
   "cell_type": "code",
   "execution_count": 30,
   "id": "c6c4d03e",
   "metadata": {},
   "outputs": [
    {
     "name": "stdout",
     "output_type": "stream",
     "text": [
      "São Paulo\n"
     ]
    }
   ],
   "source": [
    "print(dados_cidade['nome'])"
   ]
  },
  {
   "cell_type": "code",
   "execution_count": 31,
   "id": "2171670d",
   "metadata": {},
   "outputs": [
    {
     "name": "stdout",
     "output_type": "stream",
     "text": [
      "{'nome': 'São Paulo', 'estado': 'São Paulo', 'area_km2': 1500, 'populacao_milhoes': 12.18, 'país': 'Brasil'}\n"
     ]
    }
   ],
   "source": [
    "dados_cidade['area_km2'] = 1500\n",
    "print(dados_cidade)"
   ]
  },
  {
   "cell_type": "code",
   "execution_count": 32,
   "id": "a63e8c5d",
   "metadata": {},
   "outputs": [
    {
     "name": "stdout",
     "output_type": "stream",
     "text": [
      "{'nome': 'Santos', 'estado': 'São Paulo', 'area_km2': 1500, 'populacao_milhoes': 12.18, 'país': 'Brasil'}\n",
      "{'nome': 'Santos', 'estado': 'São Paulo', 'area_km2': 1500, 'populacao_milhoes': 12.18, 'país': 'Brasil'}\n",
      "---------------------------------------\n",
      "{'nome': 'Santos', 'estado': 'São Paulo', 'area_km2': 1500, 'populacao_milhoes': 12.18, 'país': 'Brasil'}\n",
      "{'nome': 'Rio de Janeiro', 'estado': 'São Paulo', 'area_km2': 1500, 'populacao_milhoes': 12.18, 'país': 'Brasil'}\n"
     ]
    }
   ],
   "source": [
    "# Atenção na copia !\n",
    "dados_cidade_2 = dados_cidade\n",
    "dados_cidade_2['nome'] = 'Santos'\n",
    "print(dados_cidade)\n",
    "print(dados_cidade_2)\n",
    "dados_cidade_3 = dados_cidade.copy()\n",
    "dados_cidade_3['nome'] = 'Rio de Janeiro'\n",
    "print('---------------------------------------')\n",
    "print(dados_cidade)\n",
    "print(dados_cidade_3)"
   ]
  },
  {
   "cell_type": "code",
   "execution_count": 33,
   "id": "5d6c1731",
   "metadata": {},
   "outputs": [
    {
     "name": "stdout",
     "output_type": "stream",
     "text": [
      "{'nome': 'Santos', 'estado': 'São Paulo', 'area_km2': 1500, 'populacao_milhoes': 15, 'país': 'Brasil', 'fundacao': '25/01/1554'}\n"
     ]
    }
   ],
   "source": [
    "# Atualizando uma lista com update\n",
    "\n",
    "novos_dados = {\n",
    "    'populacao_milhoes': 15,\n",
    "    'fundacao': '25/01/1554'\n",
    "}\n",
    "\n",
    "dados_cidade.update(novos_dados)\n",
    "print(dados_cidade)"
   ]
  },
  {
   "cell_type": "code",
   "execution_count": 34,
   "id": "4f9cb462",
   "metadata": {},
   "outputs": [
    {
     "name": "stdout",
     "output_type": "stream",
     "text": [
      "Chaves de um dicionario:  dict_keys(['nome', 'estado', 'area_km2', 'populacao_milhoes', 'país', 'fundacao'])\n",
      "Valores de um dicionario:  dict_values(['Santos', 'São Paulo', 1500, 15, 'Brasil', '25/01/1554'])\n",
      "Items de um dicionario:  dict_items([('nome', 'Santos'), ('estado', 'São Paulo'), ('area_km2', 1500), ('populacao_milhoes', 15), ('país', 'Brasil'), ('fundacao', '25/01/1554')])\n"
     ]
    }
   ],
   "source": [
    "# Comandos importantes para dicionários !\n",
    "print('Chaves de um dicionario: ', dados_cidade.keys())\n",
    "print('Valores de um dicionario: ', dados_cidade.values())\n",
    "print('Items de um dicionario: ', dados_cidade.items())"
   ]
  },
  {
   "cell_type": "markdown",
   "id": "2f06b849",
   "metadata": {},
   "source": [
    "**Estrutura de Repetição - For**"
   ]
  },
  {
   "cell_type": "code",
   "execution_count": 35,
   "id": "0cec693b",
   "metadata": {},
   "outputs": [
    {
     "name": "stdout",
     "output_type": "stream",
     "text": [
      "São Paulo\n",
      "Londres\n",
      "Tóquio\n",
      "Paris\n"
     ]
    }
   ],
   "source": [
    "cidade = ['São Paulo', 'Londres', 'Tóquio', 'Paris']\n",
    "for nome in cidade:\n",
    "    print(nome)"
   ]
  },
  {
   "cell_type": "code",
   "execution_count": 36,
   "id": "704a1422",
   "metadata": {},
   "outputs": [
    {
     "name": "stdout",
     "output_type": "stream",
     "text": [
      "nome: São Paulo\n",
      "estado: São Paulo\n",
      "populacao_m: 12.2\n"
     ]
    }
   ],
   "source": [
    "cidade = {\n",
    "    'nome': 'São Paulo',\n",
    "    'estado': 'São Paulo',\n",
    "    'populacao_m': 12.2\n",
    "}\n",
    "for chave in cidade:\n",
    "    print('{}: {}'.format(chave, cidade[chave]))"
   ]
  },
  {
   "cell_type": "code",
   "execution_count": 37,
   "id": "8cfe858b",
   "metadata": {},
   "outputs": [
    {
     "name": "stdout",
     "output_type": "stream",
     "text": [
      "0\n",
      "1\n",
      "2\n",
      "3\n"
     ]
    }
   ],
   "source": [
    "cidade = ['São Paulo', 'Londres', 'Tóquio', 'Paris']\n",
    "for posicao in range(len(cidade)):\n",
    "    print(posicao)"
   ]
  },
  {
   "cell_type": "code",
   "execution_count": 38,
   "id": "9bfe871e",
   "metadata": {},
   "outputs": [
    {
     "name": "stdout",
     "output_type": "stream",
     "text": [
      "['Rio de Janeiro', 'Rio de Janeiro', 'Rio de Janeiro', 'Rio de Janeiro']\n"
     ]
    }
   ],
   "source": [
    "cidade = ['São Paulo', 'Londres', 'Tóquio', 'Paris']\n",
    "for posicao in range(len(cidade)):\n",
    "    cidade[posicao] = 'Rio de Janeiro'\n",
    "print(cidade)"
   ]
  },
  {
   "cell_type": "code",
   "execution_count": 39,
   "id": "ea8ea9c7",
   "metadata": {},
   "outputs": [
    {
     "name": "stdout",
     "output_type": "stream",
     "text": [
      "Contador de 0 até 9:  [0, 1, 2, 3, 4, 5, 6, 7, 8, 9]\n",
      "Contador de 2 até 9:  [2, 3, 4, 5, 6, 7, 8, 9]\n",
      "Contador de 2 até 9 saltando 2:  [2, 4, 6, 8]\n"
     ]
    }
   ],
   "source": [
    "print('Contador de 0 até 9: ', list(range(10)))\n",
    "print('Contador de 2 até 9: ', list(range(2, 10))) # Ultimo nao entra\n",
    "print('Contador de 2 até 9 saltando 2: ', list(range(2, 10, 2)))"
   ]
  },
  {
   "cell_type": "markdown",
   "id": "c708ea00",
   "metadata": {},
   "source": [
    "**Funções**"
   ]
  },
  {
   "cell_type": "code",
   "execution_count": 40,
   "id": "c08e7140",
   "metadata": {},
   "outputs": [],
   "source": [
    "def hello():\n",
    "    print('Olá, mundo!')"
   ]
  },
  {
   "cell_type": "code",
   "execution_count": 41,
   "id": "c02cc65f",
   "metadata": {},
   "outputs": [
    {
     "name": "stdout",
     "output_type": "stream",
     "text": [
      "Olá, mundo!\n"
     ]
    }
   ],
   "source": [
    "hello()"
   ]
  },
  {
   "cell_type": "code",
   "execution_count": 42,
   "id": "4ace7684",
   "metadata": {},
   "outputs": [],
   "source": [
    "def calcula_media(v1, v2, v3):\n",
    "    media = (v1+v2+v3)/3\n",
    "    return media"
   ]
  },
  {
   "cell_type": "code",
   "execution_count": 43,
   "id": "fc870b06",
   "metadata": {},
   "outputs": [
    {
     "name": "stdout",
     "output_type": "stream",
     "text": [
      "Digite um valor: 10\n",
      "Digite um valor: 10\n",
      "Digite um valor: 10\n"
     ]
    },
    {
     "data": {
      "text/plain": [
       "10.0"
      ]
     },
     "execution_count": 43,
     "metadata": {},
     "output_type": "execute_result"
    }
   ],
   "source": [
    "primeiro = int(input('Digite um valor: '))\n",
    "segundo = int(input('Digite um valor: '))\n",
    "terceiro = int(input('Digite um valor: '))\n",
    "calcula_media(primeiro, segundo, terceiro)"
   ]
  },
  {
   "cell_type": "code",
   "execution_count": 44,
   "id": "7b1b04e1",
   "metadata": {},
   "outputs": [],
   "source": [
    "# Atribuir valores default para uma função\n",
    "\n",
    "def calcula_media(v1=0, v2=0, v3=0):\n",
    "    media = (v1+v2+v3)/3\n",
    "    return media"
   ]
  },
  {
   "cell_type": "code",
   "execution_count": 45,
   "id": "5d34842d",
   "metadata": {},
   "outputs": [
    {
     "data": {
      "text/plain": [
       "10.0"
      ]
     },
     "execution_count": 45,
     "metadata": {},
     "output_type": "execute_result"
    }
   ],
   "source": [
    "calcula_media(10, 20)"
   ]
  },
  {
   "cell_type": "markdown",
   "id": "aed82983",
   "metadata": {},
   "source": [
    "**Funções II**"
   ]
  },
  {
   "cell_type": "code",
   "execution_count": 46,
   "id": "8915383f",
   "metadata": {},
   "outputs": [],
   "source": [
    "def calcula_media(*args):\n",
    "    print(args, type(args))"
   ]
  },
  {
   "cell_type": "code",
   "execution_count": 47,
   "id": "1eca7c91",
   "metadata": {},
   "outputs": [
    {
     "name": "stdout",
     "output_type": "stream",
     "text": [
      "(10, 8, 9) <class 'tuple'>\n"
     ]
    }
   ],
   "source": [
    "calcula_media(10,8,9)"
   ]
  },
  {
   "cell_type": "code",
   "execution_count": 48,
   "id": "b35ac9f9",
   "metadata": {},
   "outputs": [],
   "source": [
    "def calcula_media(*args):\n",
    "    soma = sum(args)\n",
    "    media = soma / len(args)\n",
    "    return media"
   ]
  },
  {
   "cell_type": "code",
   "execution_count": 49,
   "id": "f3b9a87a",
   "metadata": {},
   "outputs": [
    {
     "data": {
      "text/plain": [
       "25.0"
      ]
     },
     "execution_count": 49,
     "metadata": {},
     "output_type": "execute_result"
    }
   ],
   "source": [
    "calcula_media(10, 20, 30, 40)"
   ]
  },
  {
   "cell_type": "code",
   "execution_count": 50,
   "id": "9ce8e874",
   "metadata": {},
   "outputs": [],
   "source": [
    "def print_info(**kwargs):\n",
    "    print(kwargs, type(kwargs))"
   ]
  }
 ],
 "metadata": {
  "kernelspec": {
   "display_name": "Python 3 (ipykernel)",
   "language": "python",
   "name": "python3"
  },
  "language_info": {
   "codemirror_mode": {
    "name": "ipython",
    "version": 3
   },
   "file_extension": ".py",
   "mimetype": "text/x-python",
   "name": "python",
   "nbconvert_exporter": "python",
   "pygments_lexer": "ipython3",
   "version": "3.9.12"
  }
 },
 "nbformat": 4,
 "nbformat_minor": 5
}
