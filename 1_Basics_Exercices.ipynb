{
 "cells": [
  {
   "cell_type": "markdown",
   "id": "e7af6934",
   "metadata": {},
   "source": [
    "**1. Faça um programa que peça um valor monetário e diminua-o em 15%. Seu programa deve imprimir a mensagem “O novo valor é [valor]”.**"
   ]
  },
  {
   "cell_type": "code",
   "execution_count": 1,
   "id": "fc08ce08",
   "metadata": {},
   "outputs": [
    {
     "name": "stdout",
     "output_type": "stream",
     "text": [
      "Insira um valor monetário: 100\n",
      "O novo valor é:  85.0\n"
     ]
    }
   ],
   "source": [
    "valor_monetario = int(input('Insira um valor monetário: '))\n",
    "valor_monetario = valor_monetario * 0.85\n",
    "print('O novo valor é: ', valor_monetario)"
   ]
  },
  {
   "cell_type": "markdown",
   "id": "db765edf",
   "metadata": {},
   "source": [
    "**2. Faça um programa que leia a validade das informações:**\n",
    "\n",
    "**a. Idade: entre 0 e 150;**\n",
    "\n",
    "**b. Salário: maior que 0;**\n",
    "\n",
    "**c. Sexo: M, F ou Outro;**\n",
    "\n",
    "**O programa deve imprimir uma mensagem de erro para cada informação inválida.**"
   ]
  },
  {
   "cell_type": "code",
   "execution_count": 10,
   "id": "02ec69c6",
   "metadata": {},
   "outputs": [
    {
     "name": "stdout",
     "output_type": "stream",
     "text": [
      "Digite uma idade: 24\n",
      "Digite um salario: 400\n",
      "Digite o Sexo (M: Masculino, F: Feminino ou Outro): M\n",
      "A idade é uma informação válida\n",
      "O salário é uma informação válida\n",
      "O sexo é uma informação válida\n"
     ]
    }
   ],
   "source": [
    "idade = int(input('Digite uma idade: '))\n",
    "salario = int(input('Digite um salario: '))\n",
    "sexo = input('Digite o Sexo (M: Masculino, F: Feminino ou Outro): ')\n",
    "\n",
    "if (idade >= 0) and (idade <= 150):\n",
    "    print('A idade é uma informação válida')\n",
    "else:\n",
    "    print('A idade é uma informação inválida')\n",
    "    \n",
    "if salario > 0:\n",
    "    print('O salário é uma informação válida')\n",
    "else:\n",
    "    print('O salário é uma informação inválida') \n",
    "    \n",
    "if (sexo == 'M') or (sexo == 'F') or (sexo == 'Outro'):\n",
    "    print('O sexo é uma informação válida')\n",
    "else:\n",
    "    print('O sexo é uma informação inválida') "
   ]
  },
  {
   "cell_type": "markdown",
   "id": "ca5c52b1",
   "metadata": {},
   "source": [
    "**3. Vamos fazer um programa para verificar quem é o assassino de um crime.\n",
    "Para descobrir o assassino, a polícia faz um pequeno questionário com 5\n",
    "perguntas onde a resposta só pode ser sim ou não:**\n",
    "\n",
    "**a. Mora perto da vítima?**\n",
    "\n",
    "**b. Já trabalhou com a vítima?**\n",
    "\n",
    "**c. Telefonou para a vítima?**\n",
    "\n",
    "**d. Esteve no local do crime?**\n",
    "\n",
    "**e. Devia para a vítima?**\n",
    "\n",
    "**Cada resposta sim dá um ponto para o suspeito. A polícia considera que os\n",
    "suspeitos com 5 pontos são os assassinos, com 4 a 3 pontos são cúmplices e\n",
    "2 pontos são apenas suspeitos, necessitando outras investigações. Valores\n",
    "iguais ou abaixo de 1 são liberados.**"
   ]
  },
  {
   "cell_type": "code",
   "execution_count": 33,
   "id": "77ea6c4e",
   "metadata": {},
   "outputs": [
    {
     "name": "stdout",
     "output_type": "stream",
     "text": [
      "Você mora perto da vítima? SIM ou NÃO: SIM\n",
      "Você já trabalhou com a vítima? SIM ou NÃO: SIM\n",
      "Você telefonou para a vítima? SIM ou NÃO: SIM\n",
      "Você esteve no local do crime? SIM ou NÃO: SIM\n",
      "Você devia para a vítima? SIM ou NÃO: NÃO\n",
      "Você é cumplice\n"
     ]
    }
   ],
   "source": [
    "contador = 0\n",
    "resposta = input('Você mora perto da vítima? SIM ou NÃO: ')\n",
    "if resposta == 'SIM':\n",
    "    contador = contador + 1\n",
    "\n",
    "resposta = input('Você já trabalhou com a vítima? SIM ou NÃO: ')\n",
    "if resposta == 'SIM':\n",
    "    contador = contador + 1\n",
    "\n",
    "resposta = input('Você telefonou para a vítima? SIM ou NÃO: ')\n",
    "if resposta == 'SIM':\n",
    "    contador = contador + 1\n",
    "\n",
    "resposta = input('Você esteve no local do crime? SIM ou NÃO: ')\n",
    "if resposta == 'SIM':\n",
    "    contador = contador + 1\n",
    "\n",
    "resposta = input('Você devia para a vítima? SIM ou NÃO: ')\n",
    "if resposta == 'SIM':\n",
    "    contador = contador + 1\n",
    "\n",
    "if contador <= 1:\n",
    "    print('Você está liberado')\n",
    "elif contador == 2:\n",
    "    print('Você é suspeito')\n",
    "elif (contador == 3) or (contador == 4):\n",
    "    print('Você é cumplice')\n",
    "else:\n",
    "    print('Você é o assasino')"
   ]
  },
  {
   "cell_type": "markdown",
   "id": "aafa3912",
   "metadata": {},
   "source": [
    "**4. Faça um programa que imprima a tabuada do 9 (de 9 a 90) usando loops.**"
   ]
  },
  {
   "cell_type": "code",
   "execution_count": 39,
   "id": "ae3676a4",
   "metadata": {},
   "outputs": [
    {
     "name": "stdout",
     "output_type": "stream",
     "text": [
      "9 * 1 = 9\n",
      "9 * 2 = 18\n",
      "9 * 3 = 27\n",
      "9 * 4 = 36\n",
      "9 * 5 = 45\n",
      "9 * 6 = 54\n",
      "9 * 7 = 63\n",
      "9 * 8 = 72\n",
      "9 * 9 = 81\n",
      "9 * 10 = 90\n"
     ]
    }
   ],
   "source": [
    "contador = 1\n",
    "tabuada = 9\n",
    "while contador < 11:\n",
    "    print('9 * ' + str(contador) + ' = ' + str(tabuada * contador))\n",
    "    contador += 1 "
   ]
  }
 ],
 "metadata": {
  "kernelspec": {
   "display_name": "Python 3 (ipykernel)",
   "language": "python",
   "name": "python3"
  },
  "language_info": {
   "codemirror_mode": {
    "name": "ipython",
    "version": 3
   },
   "file_extension": ".py",
   "mimetype": "text/x-python",
   "name": "python",
   "nbconvert_exporter": "python",
   "pygments_lexer": "ipython3",
   "version": "3.9.12"
  }
 },
 "nbformat": 4,
 "nbformat_minor": 5
}
