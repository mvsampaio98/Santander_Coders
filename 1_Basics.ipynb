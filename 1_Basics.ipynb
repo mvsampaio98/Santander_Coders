{
 "cells": [
  {
   "cell_type": "markdown",
   "id": "b93f6909",
   "metadata": {},
   "source": [
    "**Printando primeira mensagem**"
   ]
  },
  {
   "cell_type": "code",
   "execution_count": 1,
   "id": "be9441b0",
   "metadata": {},
   "outputs": [
    {
     "name": "stdout",
     "output_type": "stream",
     "text": [
      "Hello World !\n"
     ]
    }
   ],
   "source": [
    "print('Hello World !')"
   ]
  },
  {
   "cell_type": "markdown",
   "id": "c8223f50",
   "metadata": {},
   "source": [
    "**Tipos de variáveis**"
   ]
  },
  {
   "cell_type": "code",
   "execution_count": 6,
   "id": "2fcede6f",
   "metadata": {},
   "outputs": [
    {
     "name": "stdout",
     "output_type": "stream",
     "text": [
      "Tipo de a: <class 'int'>, Tipo de b: <class 'float'>, Tipo de c: <class 'str'>, Tipo de d: <class 'bool'>\n"
     ]
    }
   ],
   "source": [
    "a = 5\n",
    "b = 5.50\n",
    "c = 'Marcelo'\n",
    "d = False\n",
    "print('Tipo de a: {}, Tipo de b: {}, Tipo de c: {}, Tipo de d: {}'.format(type(a),type(b),type(c),type(d)))"
   ]
  },
  {
   "cell_type": "markdown",
   "id": "9643f812",
   "metadata": {},
   "source": [
    "**Operadores**"
   ]
  },
  {
   "cell_type": "code",
   "execution_count": 8,
   "id": "fcb173e4",
   "metadata": {},
   "outputs": [
    {
     "name": "stdout",
     "output_type": "stream",
     "text": [
      "Soma:  52\n",
      "Subtração:  48\n",
      "Multiplicação:  100\n",
      "Divisão:  25.0\n",
      "Exponencial:  2500\n",
      "Divisão inteira:  25\n",
      "Resto da divisão:  0\n"
     ]
    }
   ],
   "source": [
    "x = 50\n",
    "y = 2\n",
    "print('Soma: ', x+y)\n",
    "print('Subtração: ', x-y)\n",
    "print('Multiplicação: ', x*y)\n",
    "print('Divisão: ', x/y)\n",
    "print('Exponencial: ', x**y)\n",
    "print('Divisão inteira: ', x//y)\n",
    "print('Resto da divisão: ', x%y)"
   ]
  },
  {
   "cell_type": "markdown",
   "id": "7b7ae937",
   "metadata": {},
   "source": [
    "Operadores Booleanos:"
   ]
  },
  {
   "cell_type": "code",
   "execution_count": 9,
   "id": "c3092759",
   "metadata": {},
   "outputs": [
    {
     "name": "stdout",
     "output_type": "stream",
     "text": [
      "Negação:  False\n",
      "OR:  True\n",
      "AND:  False\n"
     ]
    }
   ],
   "source": [
    "tem_cafe = True\n",
    "tem_pao = False\n",
    "\n",
    "print('Negação: ', not tem_cafe)\n",
    "print('OR: ', tem_cafe or tem_pao)\n",
    "print('AND: ', tem_cafe and tem_pao)"
   ]
  },
  {
   "cell_type": "markdown",
   "id": "b79759c3",
   "metadata": {},
   "source": [
    "Comparação:"
   ]
  },
  {
   "cell_type": "code",
   "execution_count": 10,
   "id": "a822676d",
   "metadata": {},
   "outputs": [
    {
     "name": "stdout",
     "output_type": "stream",
     "text": [
      "Dolar é maior que real?  True\n",
      "Dolar é menor que real?  False\n",
      "Dolar é igual a real?  False\n",
      "Dolar é maior ou igual a real?  True\n",
      "Dolar é menor ou igual a real?  False\n",
      "Dolar é diferente de real?  True\n"
     ]
    }
   ],
   "source": [
    "dolar = 5.3\n",
    "real = 1\n",
    "print ('Dolar é maior que real? ', dolar > real)\n",
    "print ('Dolar é menor que real? ',dolar < real)\n",
    "print ('Dolar é igual a real? ',dolar == real)\n",
    "print ('Dolar é maior ou igual a real? ',dolar >= real)\n",
    "print ('Dolar é menor ou igual a real? ',dolar <= real)\n",
    "print ('Dolar é diferente de real? ',dolar != real)"
   ]
  },
  {
   "cell_type": "markdown",
   "id": "00962c41",
   "metadata": {},
   "source": [
    "**Estruturas Sequenciais**"
   ]
  },
  {
   "cell_type": "code",
   "execution_count": 11,
   "id": "176c5b11",
   "metadata": {},
   "outputs": [
    {
     "name": "stdout",
     "output_type": "stream",
     "text": [
      "Informe a sua idade: 24\n",
      "24 <class 'str'>\n"
     ]
    }
   ],
   "source": [
    "idade = input('Informe a sua idade: ')\n",
    "print(idade, type(idade))"
   ]
  },
  {
   "cell_type": "code",
   "execution_count": 12,
   "id": "db884a3e",
   "metadata": {},
   "outputs": [
    {
     "name": "stdout",
     "output_type": "stream",
     "text": [
      "24 <class 'int'>\n"
     ]
    }
   ],
   "source": [
    "# transformação do valor str para int\n",
    "idade = int(idade)\n",
    "print(idade, type(idade))"
   ]
  },
  {
   "cell_type": "code",
   "execution_count": 13,
   "id": "7f7429d4",
   "metadata": {},
   "outputs": [
    {
     "name": "stdout",
     "output_type": "stream",
     "text": [
      "Digite o valor do seu salário mensal: 2500\n",
      "Digite o valor do seu gasto mensal em média: 1400\n",
      "O montante que você pode economizar ao fim do ano é R$  13200.0\n"
     ]
    }
   ],
   "source": [
    "salario_mensal = input('Digite o valor do seu salário mensal: ')\n",
    "salario_mensal = float(salario_mensal)\n",
    "\n",
    "gasto_mensal = input('Digite o valor do seu gasto mensal em média: ')\n",
    "gasto_mensal = float(gasto_mensal)\n",
    "\n",
    "salario_total = salario_mensal * 12\n",
    "gasto_total = gasto_mensal * 12\n",
    "\n",
    "montate_economizado = salario_total - gasto_total\n",
    "\n",
    "print('O montante que você pode economizar ao fim do ano é R$ ', montate_economizado)"
   ]
  },
  {
   "cell_type": "markdown",
   "id": "a80b4f79",
   "metadata": {},
   "source": [
    "**Estruturas Condicionais**"
   ]
  },
  {
   "cell_type": "code",
   "execution_count": 15,
   "id": "1d6107f1",
   "metadata": {},
   "outputs": [
    {
     "name": "stdout",
     "output_type": "stream",
     "text": [
      "Qual é o valor da corrida?50\n",
      "Pegue o Onibus\n"
     ]
    }
   ],
   "source": [
    "valor_passagem = 4.30\n",
    "\n",
    "valor_corrida = input('Qual é o valor da corrida?')\n",
    "\n",
    "if float(valor_corrida) <= 5 * valor_passagem:\n",
    "    print('Pegue a corrida')\n",
    "else:\n",
    "    print('Pegue o Onibus')"
   ]
  },
  {
   "cell_type": "code",
   "execution_count": 23,
   "id": "c6f1b104",
   "metadata": {},
   "outputs": [
    {
     "name": "stdout",
     "output_type": "stream",
     "text": [
      "Qual é o valor da corrida?25\n",
      "Espere o valor pode abaixar...\n"
     ]
    }
   ],
   "source": [
    "valor_passagem = 4.30\n",
    "\n",
    "valor_corrida = input('Qual é o valor da corrida?')\n",
    "\n",
    "if float(valor_corrida) <= 5 * valor_passagem:\n",
    "    print('Pegue a corrida')\n",
    "elif float(valor_corrida) <= 6 * valor_passagem:\n",
    "    print('Espere o valor pode abaixar...')\n",
    "else:\n",
    "    print('Pegue o Onibus')"
   ]
  },
  {
   "cell_type": "markdown",
   "id": "fc9a2f91",
   "metadata": {},
   "source": [
    "**Estruturas de Repetição - While**"
   ]
  },
  {
   "cell_type": "code",
   "execution_count": 24,
   "id": "0da351c5",
   "metadata": {},
   "outputs": [
    {
     "name": "stdout",
     "output_type": "stream",
     "text": [
      "1 item limpo\n",
      "2 itens limpos\n",
      "3 itens limpos\n",
      "4 itens limpos\n",
      "5 itens limpos\n",
      "6 itens limpos\n",
      "7 itens limpos\n",
      "8 itens limpos\n",
      "9 itens limpos\n",
      "10 itens limpos\n",
      "Fim da repetição do bloco !\n"
     ]
    }
   ],
   "source": [
    "contador = 0\n",
    "while contador < 10:\n",
    "    contador = contador + 1\n",
    "    if contador == 1:\n",
    "        print(contador, 'item limpo')\n",
    "    else:\n",
    "        print(contador, 'itens limpos')\n",
    "print('Fim da repetição do bloco !')"
   ]
  },
  {
   "cell_type": "code",
   "execution_count": 27,
   "id": "a9b997bd",
   "metadata": {},
   "outputs": [
    {
     "name": "stdout",
     "output_type": "stream",
     "text": [
      "1 item limpo\n",
      "2 itens limpos\n",
      "3 itens limpos\n",
      "4 itens limpos\n",
      "5 itens limpos\n",
      "6 itens limpos\n",
      "7 itens limpos\n",
      "8 itens limpos\n",
      "9 itens limpos\n",
      "10 itens limpos\n",
      "Fim da repetição do bloco !\n"
     ]
    }
   ],
   "source": [
    "contador = 0\n",
    "\n",
    "while True:\n",
    "    if contador <10:\n",
    "        contador = contador + 1\n",
    "        if contador == 1:\n",
    "            print(contador, 'item limpo')\n",
    "        else:\n",
    "            print(contador, 'itens limpos')\n",
    "    else:\n",
    "        break\n",
    "print('Fim da repetição do bloco !')"
   ]
  },
  {
   "cell_type": "code",
   "execution_count": 30,
   "id": "5c54520c",
   "metadata": {},
   "outputs": [
    {
     "name": "stdout",
     "output_type": "stream",
     "text": [
      "Digite uma senha: LetsCode\n",
      "Acesso Permitido\n"
     ]
    }
   ],
   "source": [
    "texto = input('Digite uma senha: ')\n",
    "\n",
    "while texto != 'LetsCode':\n",
    "    texto = input('Senha Inválida. Tente novamente: ')\n",
    "print('Acesso Permitido')"
   ]
  },
  {
   "cell_type": "code",
   "execution_count": 33,
   "id": "37f76a7f",
   "metadata": {},
   "outputs": [
    {
     "name": "stdout",
     "output_type": "stream",
     "text": [
      "2 itens limpos\n",
      "3 itens limpos\n",
      "4 itens limpos\n",
      "5 itens limpos\n",
      "6 itens limpos\n",
      "7 itens limpos\n",
      "8 itens limpos\n",
      "9 itens limpos\n",
      "10 itens limpos\n",
      "Fim da repetição do bloco !\n"
     ]
    }
   ],
   "source": [
    "# A menos que o contador seja 1 continue fazendo o bloco.\n",
    "contador = 0\n",
    "\n",
    "while contador < 10:\n",
    "    contador = contador + 1\n",
    "    if contador == 1:\n",
    "        continue\n",
    "    print(contador, 'itens limpos')\n",
    "print('Fim da repetição do bloco !')"
   ]
  }
 ],
 "metadata": {
  "kernelspec": {
   "display_name": "Python 3 (ipykernel)",
   "language": "python",
   "name": "python3"
  },
  "language_info": {
   "codemirror_mode": {
    "name": "ipython",
    "version": 3
   },
   "file_extension": ".py",
   "mimetype": "text/x-python",
   "name": "python",
   "nbconvert_exporter": "python",
   "pygments_lexer": "ipython3",
   "version": "3.9.12"
  }
 },
 "nbformat": 4,
 "nbformat_minor": 5
}
